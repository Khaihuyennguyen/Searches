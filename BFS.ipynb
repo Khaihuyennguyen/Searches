{
  "nbformat": 4,
  "nbformat_minor": 0,
  "metadata": {
    "colab": {
      "name": "Untitled8.ipynb",
      "provenance": [],
      "collapsed_sections": [],
      "authorship_tag": "ABX9TyMzmliT72Vxlj3Y70pbgJxk",
      "include_colab_link": true
    },
    "kernelspec": {
      "name": "python3",
      "display_name": "Python 3"
    },
    "language_info": {
      "name": "python"
    }
  },
  "cells": [
    {
      "cell_type": "markdown",
      "metadata": {
        "id": "view-in-github",
        "colab_type": "text"
      },
      "source": [
        "<a href=\"https://colab.research.google.com/github/Khaihuyennguyen/Searches/blob/main/BFS.ipynb\" target=\"_parent\"><img src=\"https://colab.research.google.com/assets/colab-badge.svg\" alt=\"Open In Colab\"/></a>"
      ]
    },
    {
      "cell_type": "code",
      "execution_count": 9,
      "metadata": {
        "id": "w7Hxfwm6kvRP"
      },
      "outputs": [],
      "source": [
        "#Practice BFS\n",
        "\n",
        "class GraphNode(object):\n",
        "  def __init__(self, val):\n",
        "    self.value = val\n",
        "    self.children = []\n",
        "  def add_child (self, new_node):\n",
        "    self.children.append(new_node)\n",
        "  def remove_child (self, del_node):\n",
        "    if del_node in self.children:\n",
        "      self.children.remove(del_node)\n",
        "\n",
        "class Graph(object):\n",
        "  def __init__(self, node_list):\n",
        "    self.nodes = node_list\n",
        "  def add_edge(self, node1, node2):\n",
        "    node1.add_child(node2)\n",
        "    node2.add_child(node1)\n",
        "  def remove_edge(self, node1, node2):\n",
        "    if (node1 in self.nodes and node2 in self.nodes):\n",
        "      node1.remove_child(node2)\n",
        "      node2.remove_child(node1)"
      ]
    },
    {
      "cell_type": "code",
      "source": [
        "#implement BFS\n"
      ],
      "metadata": {
        "id": "1NJ_j374m6uY"
      },
      "execution_count": 10,
      "outputs": []
    },
    {
      "cell_type": "code",
      "source": [
        "nodeG = GraphNode('G')\n",
        "nodeR = GraphNode('R')\n",
        "nodeA = GraphNode('A')\n",
        "nodeP = GraphNode('P')\n",
        "nodeH = GraphNode('H')\n",
        "nodeS = GraphNode('S')\n",
        "\n",
        "\n",
        "graph1 = Graph([nodeS,nodeH,nodeG,nodeP,nodeR,nodeA] ) \n",
        "graph1.add_edge(nodeG,nodeR)\n",
        "graph1.add_edge(nodeA,nodeR)\n",
        "graph1.add_edge(nodeA,nodeG)\n",
        "graph1.add_edge(nodeR,nodeP)\n",
        "graph1.add_edge(nodeH,nodeG)\n",
        "graph1.add_edge(nodeH,nodeP)\n",
        "graph1.add_edge(nodeS,nodeR)"
      ],
      "metadata": {
        "id": "pa_fARiimcA0"
      },
      "execution_count": 11,
      "outputs": []
    },
    {
      "cell_type": "code",
      "source": [
        "#Implement BFS\n",
        "\n",
        "def bfs_search(root, value):\n",
        "  visited = set()\n",
        "  queue = [root]\n",
        "\n",
        "  while len(queue)>0:\n",
        "    current_node = queue.pop(0)\n",
        "    visited.add(current_node)\n",
        "\n",
        "    if current_node.value == value:\n",
        "      return current_node\n",
        "    \n",
        "    for child in current_node.children:\n",
        "      if child not in visited:\n",
        "        queue.append(child)\n"
      ],
      "metadata": {
        "id": "StKhX8APbvl0"
      },
      "execution_count": 18,
      "outputs": []
    },
    {
      "cell_type": "code",
      "source": [
        "#Now testing\n",
        "\n",
        "assert nodeA == bfs_search(nodeS, 'A')\n",
        "assert nodeS == bfs_search(nodeP, 'S')\n",
        "assert nodeR == bfs_search(nodeH, 'R')"
      ],
      "metadata": {
        "id": "nZBkBIvWce9v"
      },
      "execution_count": 19,
      "outputs": []
    }
  ]
}